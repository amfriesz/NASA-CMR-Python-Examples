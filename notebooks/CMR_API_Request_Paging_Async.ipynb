{
 "cells": [
  {
   "cell_type": "code",
   "execution_count": 1,
   "id": "d4a5b6bc-3d43-4aa5-82a4-bbca8a93efbe",
   "metadata": {},
   "outputs": [],
   "source": [
    "import requests\n",
    "import math\n",
    "import aiohttp\n",
    "import asyncio\n",
    "import time"
   ]
  },
  {
   "cell_type": "code",
   "execution_count": 2,
   "id": "984f5602-6baa-4a76-8671-9d3bd67aba7a",
   "metadata": {},
   "outputs": [],
   "source": [
    "CMR_OPS = 'https://cmr.earthdata.nasa.gov/search'"
   ]
  },
  {
   "cell_type": "code",
   "execution_count": 3,
   "id": "29f261f2-629d-4065-af62-34fe54380054",
   "metadata": {},
   "outputs": [],
   "source": [
    "provider = 'LPCLOUD'"
   ]
  },
  {
   "cell_type": "code",
   "execution_count": 4,
   "id": "f8122264-6cd2-47fa-ad58-90253d73fc94",
   "metadata": {},
   "outputs": [],
   "source": [
    "url = f'{CMR_OPS}/{\"granules\"}'"
   ]
  },
  {
   "cell_type": "code",
   "execution_count": 5,
   "id": "58f9cf66-cbde-4e77-b545-f7792f61bb4a",
   "metadata": {},
   "outputs": [],
   "source": [
    "collections = ['C2021957657-LPCLOUD', 'C2021957295-LPCLOUD']\n",
    "datetime_range = '2021-10-17T00:00:00Z,2021-10-17T23:59:59Z'\n",
    "page_size = 2000"
   ]
  },
  {
   "cell_type": "markdown",
   "id": "6c7e6d7e-6ce0-4c51-875b-f8e62e622bcb",
   "metadata": {},
   "source": [
    "---"
   ]
  },
  {
   "cell_type": "markdown",
   "id": "210eede6-6a87-4e74-89e4-7032ff9a6aa9",
   "metadata": {},
   "source": [
    "## Parallel Request"
   ]
  },
  {
   "cell_type": "code",
   "execution_count": 6,
   "id": "e176946f-9bfd-45a2-abf9-00ad787cc4e0",
   "metadata": {},
   "outputs": [],
   "source": [
    "def get_cmr_pages_urls(collections, datetime_range, page_size):\n",
    "    req = requests.get(url,\n",
    "                       params={\n",
    "                           'concept_id': collections,\n",
    "                           'temporal': datetime_range,\n",
    "                           'page_size': page_size,\n",
    "                       },\n",
    "                       headers={\n",
    "                           'Accept': 'application/json'\n",
    "                       }\n",
    "                      )\n",
    "    hits = int(req.headers['CMR-Hits'])\n",
    "    n_pages = math.ceil(hits/page_size)\n",
    "    cmr_pages_urls = [f'{req.url}&page_num={x}'.replace('granules?', 'granules.json?') for x in list(range(1,n_pages+1))]\n",
    "    return cmr_pages_urls"
   ]
  },
  {
   "cell_type": "code",
   "execution_count": 7,
   "id": "e88a4d1f-925b-47b1-8724-b92c77303274",
   "metadata": {},
   "outputs": [
    {
     "data": {
      "text/plain": [
       "['https://cmr.earthdata.nasa.gov/search/granules.json?concept_id=C2021957657-LPCLOUD&concept_id=C2021957295-LPCLOUD&temporal=2021-10-17T00%3A00%3A00Z%2C2021-10-17T23%3A59%3A59Z&page_size=2000&page_num=1',\n",
       " 'https://cmr.earthdata.nasa.gov/search/granules.json?concept_id=C2021957657-LPCLOUD&concept_id=C2021957295-LPCLOUD&temporal=2021-10-17T00%3A00%3A00Z%2C2021-10-17T23%3A59%3A59Z&page_size=2000&page_num=2',\n",
       " 'https://cmr.earthdata.nasa.gov/search/granules.json?concept_id=C2021957657-LPCLOUD&concept_id=C2021957295-LPCLOUD&temporal=2021-10-17T00%3A00%3A00Z%2C2021-10-17T23%3A59%3A59Z&page_size=2000&page_num=3',\n",
       " 'https://cmr.earthdata.nasa.gov/search/granules.json?concept_id=C2021957657-LPCLOUD&concept_id=C2021957295-LPCLOUD&temporal=2021-10-17T00%3A00%3A00Z%2C2021-10-17T23%3A59%3A59Z&page_size=2000&page_num=4',\n",
       " 'https://cmr.earthdata.nasa.gov/search/granules.json?concept_id=C2021957657-LPCLOUD&concept_id=C2021957295-LPCLOUD&temporal=2021-10-17T00%3A00%3A00Z%2C2021-10-17T23%3A59%3A59Z&page_size=2000&page_num=5']"
      ]
     },
     "execution_count": 7,
     "metadata": {},
     "output_type": "execute_result"
    }
   ],
   "source": [
    "urls = get_cmr_pages_urls(collections, datetime_range, page_size)\n",
    "urls"
   ]
  },
  {
   "cell_type": "code",
   "execution_count": 8,
   "id": "7ff70465-3276-4a24-9ecc-69989e65d3af",
   "metadata": {},
   "outputs": [],
   "source": [
    "results = []"
   ]
  },
  {
   "cell_type": "code",
   "execution_count": 9,
   "id": "098b8d4d-f7cd-4f84-b3e5-90cd4fb2e48c",
   "metadata": {},
   "outputs": [],
   "source": [
    "def get_tasks(session):\n",
    "    tasks = []\n",
    "    for l in urls:\n",
    "        tasks.append(session.get(l))\n",
    "    return tasks"
   ]
  },
  {
   "cell_type": "code",
   "execution_count": 10,
   "id": "f0d222fb-c5f4-4346-beea-27c36d8b11a2",
   "metadata": {},
   "outputs": [],
   "source": [
    "async def get_url():\n",
    "    async with aiohttp.ClientSession() as session:\n",
    "        tasks = get_tasks(session)\n",
    "        responses = await asyncio.gather(*tasks)\n",
    "        for response in responses:\n",
    "            res = await response.json()\n",
    "            #print(res)\n",
    "            results.extend([l['href'] for g in res['feed']['entry'] for l in g['links'] if 'https' in l['href'] and '.tif' in l['href']])"
   ]
  },
  {
   "cell_type": "code",
   "execution_count": 11,
   "id": "c63c0ead-0db7-470c-b45a-325a20ade2b6",
   "metadata": {},
   "outputs": [
    {
     "data": {
      "text/plain": [
       "5.689258813858032"
      ]
     },
     "execution_count": 11,
     "metadata": {},
     "output_type": "execute_result"
    }
   ],
   "source": [
    "start = time.time()\n",
    "\n",
    "await get_url()\n",
    "\n",
    "end = time.time()\n",
    "\n",
    "total_time = end - start\n",
    "total_time"
   ]
  },
  {
   "cell_type": "code",
   "execution_count": 12,
   "id": "fbc839f6-292a-4faa-b6e0-a36b71b9424f",
   "metadata": {},
   "outputs": [
    {
     "data": {
      "text/plain": [
       "139005"
      ]
     },
     "execution_count": 12,
     "metadata": {},
     "output_type": "execute_result"
    }
   ],
   "source": [
    "len(results)"
   ]
  },
  {
   "cell_type": "code",
   "execution_count": 13,
   "id": "0be45c7a-6cf4-4c25-97df-f6fcfc6680c0",
   "metadata": {},
   "outputs": [
    {
     "data": {
      "text/plain": [
       "['https://data.lpdaac.earthdatacloud.nasa.gov/lp-prod-protected/HLSS30.020/HLS.S30.T59ULA.2021289T235621.v2.0/HLS.S30.T59ULA.2021289T235621.v2.0.VZA.tif',\n",
       " 'https://data.lpdaac.earthdatacloud.nasa.gov/lp-prod-protected/HLSS30.020/HLS.S30.T59ULA.2021289T235621.v2.0/HLS.S30.T59ULA.2021289T235621.v2.0.B01.tif',\n",
       " 'https://data.lpdaac.earthdatacloud.nasa.gov/lp-prod-protected/HLSS30.020/HLS.S30.T59ULA.2021289T235621.v2.0/HLS.S30.T59ULA.2021289T235621.v2.0.B06.tif',\n",
       " 'https://data.lpdaac.earthdatacloud.nasa.gov/lp-prod-protected/HLSS30.020/HLS.S30.T59ULA.2021289T235621.v2.0/HLS.S30.T59ULA.2021289T235621.v2.0.B02.tif',\n",
       " 'https://data.lpdaac.earthdatacloud.nasa.gov/lp-prod-protected/HLSS30.020/HLS.S30.T59ULA.2021289T235621.v2.0/HLS.S30.T59ULA.2021289T235621.v2.0.B03.tif',\n",
       " 'https://data.lpdaac.earthdatacloud.nasa.gov/lp-prod-protected/HLSS30.020/HLS.S30.T59ULA.2021289T235621.v2.0/HLS.S30.T59ULA.2021289T235621.v2.0.SAA.tif',\n",
       " 'https://data.lpdaac.earthdatacloud.nasa.gov/lp-prod-protected/HLSS30.020/HLS.S30.T59ULA.2021289T235621.v2.0/HLS.S30.T59ULA.2021289T235621.v2.0.B10.tif',\n",
       " 'https://data.lpdaac.earthdatacloud.nasa.gov/lp-prod-protected/HLSS30.020/HLS.S30.T59ULA.2021289T235621.v2.0/HLS.S30.T59ULA.2021289T235621.v2.0.B11.tif',\n",
       " 'https://data.lpdaac.earthdatacloud.nasa.gov/lp-prod-protected/HLSS30.020/HLS.S30.T59ULA.2021289T235621.v2.0/HLS.S30.T59ULA.2021289T235621.v2.0.SZA.tif',\n",
       " 'https://data.lpdaac.earthdatacloud.nasa.gov/lp-prod-protected/HLSS30.020/HLS.S30.T59ULA.2021289T235621.v2.0/HLS.S30.T59ULA.2021289T235621.v2.0.B07.tif',\n",
       " 'https://data.lpdaac.earthdatacloud.nasa.gov/lp-prod-protected/HLSS30.020/HLS.S30.T59ULA.2021289T235621.v2.0/HLS.S30.T59ULA.2021289T235621.v2.0.Fmask.tif',\n",
       " 'https://data.lpdaac.earthdatacloud.nasa.gov/lp-prod-protected/HLSS30.020/HLS.S30.T59ULA.2021289T235621.v2.0/HLS.S30.T59ULA.2021289T235621.v2.0.B08.tif',\n",
       " 'https://data.lpdaac.earthdatacloud.nasa.gov/lp-prod-protected/HLSS30.020/HLS.S30.T59ULA.2021289T235621.v2.0/HLS.S30.T59ULA.2021289T235621.v2.0.B12.tif',\n",
       " 'https://data.lpdaac.earthdatacloud.nasa.gov/lp-prod-protected/HLSS30.020/HLS.S30.T59ULA.2021289T235621.v2.0/HLS.S30.T59ULA.2021289T235621.v2.0.VAA.tif',\n",
       " 'https://data.lpdaac.earthdatacloud.nasa.gov/lp-prod-protected/HLSS30.020/HLS.S30.T59ULA.2021289T235621.v2.0/HLS.S30.T59ULA.2021289T235621.v2.0.B8A.tif',\n",
       " 'https://data.lpdaac.earthdatacloud.nasa.gov/lp-prod-protected/HLSS30.020/HLS.S30.T59ULA.2021289T235621.v2.0/HLS.S30.T59ULA.2021289T235621.v2.0.B04.tif',\n",
       " 'https://data.lpdaac.earthdatacloud.nasa.gov/lp-prod-protected/HLSS30.020/HLS.S30.T59ULA.2021289T235621.v2.0/HLS.S30.T59ULA.2021289T235621.v2.0.B05.tif',\n",
       " 'https://data.lpdaac.earthdatacloud.nasa.gov/lp-prod-protected/HLSS30.020/HLS.S30.T59ULA.2021289T235621.v2.0/HLS.S30.T59ULA.2021289T235621.v2.0.B09.tif',\n",
       " 'https://data.lpdaac.earthdatacloud.nasa.gov/lp-prod-protected/HLSS30.020/HLS.S30.T58UFF.2021289T235621.v2.0/HLS.S30.T58UFF.2021289T235621.v2.0.VAA.tif',\n",
       " 'https://data.lpdaac.earthdatacloud.nasa.gov/lp-prod-protected/HLSS30.020/HLS.S30.T58UFF.2021289T235621.v2.0/HLS.S30.T58UFF.2021289T235621.v2.0.B06.tif',\n",
       " 'https://data.lpdaac.earthdatacloud.nasa.gov/lp-prod-protected/HLSS30.020/HLS.S30.T58UFF.2021289T235621.v2.0/HLS.S30.T58UFF.2021289T235621.v2.0.B09.tif',\n",
       " 'https://data.lpdaac.earthdatacloud.nasa.gov/lp-prod-protected/HLSS30.020/HLS.S30.T58UFF.2021289T235621.v2.0/HLS.S30.T58UFF.2021289T235621.v2.0.B11.tif',\n",
       " 'https://data.lpdaac.earthdatacloud.nasa.gov/lp-prod-protected/HLSS30.020/HLS.S30.T58UFF.2021289T235621.v2.0/HLS.S30.T58UFF.2021289T235621.v2.0.B08.tif',\n",
       " 'https://data.lpdaac.earthdatacloud.nasa.gov/lp-prod-protected/HLSS30.020/HLS.S30.T58UFF.2021289T235621.v2.0/HLS.S30.T58UFF.2021289T235621.v2.0.B01.tif',\n",
       " 'https://data.lpdaac.earthdatacloud.nasa.gov/lp-prod-protected/HLSS30.020/HLS.S30.T58UFF.2021289T235621.v2.0/HLS.S30.T58UFF.2021289T235621.v2.0.SZA.tif']"
      ]
     },
     "execution_count": 13,
     "metadata": {},
     "output_type": "execute_result"
    }
   ],
   "source": [
    "results[:25]"
   ]
  },
  {
   "cell_type": "code",
   "execution_count": null,
   "id": "9f0eb7a8-a8be-453f-93a0-b2c78bcfba8e",
   "metadata": {},
   "outputs": [],
   "source": []
  }
 ],
 "metadata": {
  "kernelspec": {
   "display_name": "Python 3 (ipykernel)",
   "language": "python",
   "name": "python3"
  },
  "language_info": {
   "codemirror_mode": {
    "name": "ipython",
    "version": 3
   },
   "file_extension": ".py",
   "mimetype": "text/x-python",
   "name": "python",
   "nbconvert_exporter": "python",
   "pygments_lexer": "ipython3",
   "version": "3.9.7"
  }
 },
 "nbformat": 4,
 "nbformat_minor": 5
}
