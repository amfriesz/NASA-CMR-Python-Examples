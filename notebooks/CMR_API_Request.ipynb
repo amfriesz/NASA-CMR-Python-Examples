{
 "cells": [
  {
   "cell_type": "code",
   "execution_count": 52,
   "id": "93241cb1-d07d-4e38-ab93-9156826d0989",
   "metadata": {},
   "outputs": [],
   "source": [
    "import requests\n",
    "import math\n",
    "import time\n",
    "from pprint import pprint"
   ]
  },
  {
   "cell_type": "code",
   "execution_count": 53,
   "id": "984f5602-6baa-4a76-8671-9d3bd67aba7a",
   "metadata": {},
   "outputs": [],
   "source": [
    "CMR_OPS = 'https://cmr.earthdata.nasa.gov/search'"
   ]
  },
  {
   "cell_type": "code",
   "execution_count": 54,
   "id": "29f261f2-629d-4065-af62-34fe54380054",
   "metadata": {},
   "outputs": [],
   "source": [
    "provider = 'LPCLOUD'"
   ]
  },
  {
   "cell_type": "code",
   "execution_count": 55,
   "id": "f8122264-6cd2-47fa-ad58-90253d73fc94",
   "metadata": {},
   "outputs": [],
   "source": [
    "url = f'{CMR_OPS}/{\"granules\"}'"
   ]
  },
  {
   "cell_type": "code",
   "execution_count": 56,
   "id": "58f9cf66-cbde-4e77-b545-f7792f61bb4a",
   "metadata": {},
   "outputs": [],
   "source": [
    "collections = ['C2021957657-LPCLOUD', 'C2021957295-LPCLOUD']\n",
    "datetime_range = '2021-10-17T00:00:00Z,2021-10-19T23:59:59Z'\n",
    "page_size = 2000"
   ]
  },
  {
   "cell_type": "markdown",
   "id": "6c7e6d7e-6ce0-4c51-875b-f8e62e622bcb",
   "metadata": {},
   "source": [
    "---"
   ]
  },
  {
   "cell_type": "markdown",
   "id": "c0da1685-3f32-4be4-b7d2-9b20ea0136df",
   "metadata": {},
   "source": [
    "## Submit request to the CMR API"
   ]
  },
  {
   "cell_type": "code",
   "execution_count": 6,
   "id": "3b95ab5f-65c1-4d95-98f1-545750662cc9",
   "metadata": {},
   "outputs": [
    {
     "name": "stdout",
     "output_type": "stream",
     "text": [
      "200\n"
     ]
    }
   ],
   "source": [
    "response = requests.get(url, \n",
    "                        params={\n",
    "                            'concept_id': collections,\n",
    "                            'temporal': datetime_range,\n",
    "                            'page_size': page_size,\n",
    "                            },\n",
    "                        headers={\n",
    "                            'Accept': 'application/json'\n",
    "                            }\n",
    "                       )\n",
    "print(response.status_code)"
   ]
  },
  {
   "cell_type": "markdown",
   "id": "2dda4b81-bd9a-475c-be1b-2dca1b5c9d67",
   "metadata": {},
   "source": [
    "Number of CMR items found for the request. CMR can find up to 1 million items."
   ]
  },
  {
   "cell_type": "code",
   "execution_count": 9,
   "id": "14f18e26-ed64-4d5f-8808-46397ee5bd5a",
   "metadata": {},
   "outputs": [
    {
     "name": "stdout",
     "output_type": "stream",
     "text": [
      "8121\n"
     ]
    }
   ],
   "source": [
    "print(response.headers['CMR-Hits'])"
   ]
  },
  {
   "cell_type": "markdown",
   "id": "2d6f3985-8661-406f-912e-28c59feeb033",
   "metadata": {},
   "source": [
    "Number of CMR items returned by the request. CMR can return up to 2000 items for a single request, but defaults to 10. The number of items return for a request can be changed using the `page_size` parameter."
   ]
  },
  {
   "cell_type": "code",
   "execution_count": 10,
   "id": "4c3e4832-348f-414d-8572-2bf2b79b196a",
   "metadata": {},
   "outputs": [
    {
     "data": {
      "text/plain": [
       "2000"
      ]
     },
     "execution_count": 10,
     "metadata": {},
     "output_type": "execute_result"
    }
   ],
   "source": [
    "granules = response.json()['feed']['entry']\n",
    "len(granules)"
   ]
  },
  {
   "cell_type": "markdown",
   "id": "8016d881-8727-4943-8270-08393f90a6c7",
   "metadata": {},
   "source": [
    "Add all data file URLs to a list"
   ]
  },
  {
   "cell_type": "code",
   "execution_count": 13,
   "id": "7e96ea3b-403c-4834-bb8e-b89c4af1c912",
   "metadata": {},
   "outputs": [
    {
     "data": {
      "text/plain": [
       "34254"
      ]
     },
     "execution_count": 13,
     "metadata": {},
     "output_type": "execute_result"
    }
   ],
   "source": [
    "file_list = []\n",
    "for g in granules:\n",
    "    file_list.extend([x['href'] for x in g['links'] if 'https' in x['href'] and '.tif' in x['href']])\n",
    "len(file_list)"
   ]
  },
  {
   "cell_type": "code",
   "execution_count": 14,
   "id": "2935d27b-c92f-412b-8f64-7ed2616c5d7c",
   "metadata": {},
   "outputs": [
    {
     "data": {
      "text/plain": [
       "['https://data.lpdaac.earthdatacloud.nasa.gov/lp-prod-protected/HLSS30.020/HLS.S30.T59ULA.2021289T235621.v2.0/HLS.S30.T59ULA.2021289T235621.v2.0.VZA.tif',\n",
       " 'https://data.lpdaac.earthdatacloud.nasa.gov/lp-prod-protected/HLSS30.020/HLS.S30.T59ULA.2021289T235621.v2.0/HLS.S30.T59ULA.2021289T235621.v2.0.B01.tif',\n",
       " 'https://data.lpdaac.earthdatacloud.nasa.gov/lp-prod-protected/HLSS30.020/HLS.S30.T59ULA.2021289T235621.v2.0/HLS.S30.T59ULA.2021289T235621.v2.0.B06.tif',\n",
       " 'https://data.lpdaac.earthdatacloud.nasa.gov/lp-prod-protected/HLSS30.020/HLS.S30.T59ULA.2021289T235621.v2.0/HLS.S30.T59ULA.2021289T235621.v2.0.B02.tif',\n",
       " 'https://data.lpdaac.earthdatacloud.nasa.gov/lp-prod-protected/HLSS30.020/HLS.S30.T59ULA.2021289T235621.v2.0/HLS.S30.T59ULA.2021289T235621.v2.0.B03.tif',\n",
       " 'https://data.lpdaac.earthdatacloud.nasa.gov/lp-prod-protected/HLSS30.020/HLS.S30.T59ULA.2021289T235621.v2.0/HLS.S30.T59ULA.2021289T235621.v2.0.SAA.tif',\n",
       " 'https://data.lpdaac.earthdatacloud.nasa.gov/lp-prod-protected/HLSS30.020/HLS.S30.T59ULA.2021289T235621.v2.0/HLS.S30.T59ULA.2021289T235621.v2.0.B10.tif',\n",
       " 'https://data.lpdaac.earthdatacloud.nasa.gov/lp-prod-protected/HLSS30.020/HLS.S30.T59ULA.2021289T235621.v2.0/HLS.S30.T59ULA.2021289T235621.v2.0.B11.tif',\n",
       " 'https://data.lpdaac.earthdatacloud.nasa.gov/lp-prod-protected/HLSS30.020/HLS.S30.T59ULA.2021289T235621.v2.0/HLS.S30.T59ULA.2021289T235621.v2.0.SZA.tif',\n",
       " 'https://data.lpdaac.earthdatacloud.nasa.gov/lp-prod-protected/HLSS30.020/HLS.S30.T59ULA.2021289T235621.v2.0/HLS.S30.T59ULA.2021289T235621.v2.0.B07.tif']"
      ]
     },
     "execution_count": 14,
     "metadata": {},
     "output_type": "execute_result"
    }
   ],
   "source": [
    "file_list[:10]"
   ]
  },
  {
   "cell_type": "code",
   "execution_count": null,
   "id": "0be45c7a-6cf4-4c25-97df-f6fcfc6680c0",
   "metadata": {},
   "outputs": [],
   "source": []
  }
 ],
 "metadata": {
  "kernelspec": {
   "display_name": "Python 3 (ipykernel)",
   "language": "python",
   "name": "python3"
  },
  "language_info": {
   "codemirror_mode": {
    "name": "ipython",
    "version": 3
   },
   "file_extension": ".py",
   "mimetype": "text/x-python",
   "name": "python",
   "nbconvert_exporter": "python",
   "pygments_lexer": "ipython3",
   "version": "3.9.7"
  }
 },
 "nbformat": 4,
 "nbformat_minor": 5
}
