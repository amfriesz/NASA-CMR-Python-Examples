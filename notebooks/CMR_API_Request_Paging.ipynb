{
 "cells": [
  {
   "cell_type": "code",
   "execution_count": 1,
   "id": "93241cb1-d07d-4e38-ab93-9156826d0989",
   "metadata": {},
   "outputs": [],
   "source": [
    "import requests\n",
    "import math\n",
    "import time\n",
    "from pprint import pprint"
   ]
  },
  {
   "cell_type": "code",
   "execution_count": 2,
   "id": "984f5602-6baa-4a76-8671-9d3bd67aba7a",
   "metadata": {},
   "outputs": [],
   "source": [
    "CMR_OPS = 'https://cmr.earthdata.nasa.gov/search'"
   ]
  },
  {
   "cell_type": "code",
   "execution_count": 3,
   "id": "29f261f2-629d-4065-af62-34fe54380054",
   "metadata": {},
   "outputs": [],
   "source": [
    "provider = 'LPCLOUD'"
   ]
  },
  {
   "cell_type": "code",
   "execution_count": 4,
   "id": "f8122264-6cd2-47fa-ad58-90253d73fc94",
   "metadata": {},
   "outputs": [],
   "source": [
    "url = f'{CMR_OPS}/{\"granules\"}'"
   ]
  },
  {
   "cell_type": "code",
   "execution_count": 12,
   "id": "58f9cf66-cbde-4e77-b545-f7792f61bb4a",
   "metadata": {},
   "outputs": [],
   "source": [
    "collections = ['C2021957657-LPCLOUD', 'C2021957295-LPCLOUD']\n",
    "datetime_range = '2021-10-17T00:00:00Z,2021-10-17T23:59:59Z'\n",
    "page_size = 2000"
   ]
  },
  {
   "cell_type": "markdown",
   "id": "6c7e6d7e-6ce0-4c51-875b-f8e62e622bcb",
   "metadata": {},
   "source": [
    "---"
   ]
  },
  {
   "cell_type": "markdown",
   "id": "0d95b36e-c186-4632-a7a6-403710541969",
   "metadata": {},
   "source": [
    "## CMR API Request: Get information from multiple pages \n",
    "\n",
    "CMR Paging Details - <https://cmr.earthdata.nasa.gov/search/site/docs/search/api.html#paging-details>"
   ]
  },
  {
   "cell_type": "code",
   "execution_count": 13,
   "id": "24d40ee4-8bd7-4627-8e35-4a1404c54cb7",
   "metadata": {},
   "outputs": [],
   "source": [
    "def get_page_total(collections, datetime_range, page_size):\n",
    "    hits = requests.get(url, \n",
    "                        params={\n",
    "                            'concept_id': collections,\n",
    "                            'temporal': datetime_range,\n",
    "                            'page_size': page_size,\n",
    "                            },\n",
    "                        headers={\n",
    "                            'Accept': 'application/json'\n",
    "                            }\n",
    "                       ).headers['CMR-Hits']\n",
    "    return math.ceil(int(hits)/page_size)"
   ]
  },
  {
   "cell_type": "code",
   "execution_count": 14,
   "id": "2a3ffe32-4ee3-4801-b9cb-3866e7614f6c",
   "metadata": {},
   "outputs": [
    {
     "data": {
      "text/plain": [
       "[1, 2, 3, 4, 5]"
      ]
     },
     "execution_count": 14,
     "metadata": {},
     "output_type": "execute_result"
    }
   ],
   "source": [
    "page_numbers = list(range(1, get_page_total(collections, datetime_range, page_size)+1))\n",
    "page_numbers"
   ]
  },
  {
   "cell_type": "code",
   "execution_count": 15,
   "id": "e05834db-8203-4ba8-9f26-3d086631d899",
   "metadata": {},
   "outputs": [],
   "source": [
    "data_urls = []"
   ]
  },
  {
   "cell_type": "code",
   "execution_count": 16,
   "id": "8612b787-4b55-4826-84c7-930cf8154341",
   "metadata": {},
   "outputs": [
    {
     "name": "stdout",
     "output_type": "stream",
     "text": [
      "Page: 1\n",
      "Page 1 Resonse Code: 200\n",
      "Number of Granules: 2000\n",
      "Page: 2\n",
      "Page 2 Resonse Code: 200\n",
      "Number of Granules: 2000\n",
      "Page: 3\n",
      "Page 3 Resonse Code: 200\n",
      "Number of Granules: 2000\n",
      "Page: 4\n",
      "Page 4 Resonse Code: 200\n",
      "Number of Granules: 2000\n",
      "Page: 5\n",
      "Page 5 Resonse Code: 200\n",
      "Number of Granules: 121\n",
      "Total time: 9.523819208145142\n"
     ]
    }
   ],
   "source": [
    "start = time.time()\n",
    "for n in page_numbers:\n",
    "    print(f'Page: {n}')\n",
    "    response = requests.get(url,\n",
    "                            params={\n",
    "                                'concept_id': collections,\n",
    "                                'temporal': datetime_range,\n",
    "                                'page_size': page_size,\n",
    "                                'page_num': n\n",
    "                            },\n",
    "                            headers={\n",
    "                                'Accept': 'application/json'\n",
    "                            }\n",
    "                           )\n",
    "    print(f'Page {n} Resonse Code: {response.status_code}')\n",
    "    \n",
    "    granules = response.json()['feed']['entry']\n",
    "    print(f'Number of Granules: {len(granules)}')\n",
    "    \n",
    "    for g in granules:\n",
    "        data_urls.extend([x['href'] for x in g['links'] if 'https' in x['href'] and '.tif' in x['href']])\n",
    "end = time.time()\n",
    "print(f'Total time: {end-start}')"
   ]
  },
  {
   "cell_type": "code",
   "execution_count": 17,
   "id": "e1cac7fe-f17c-4adc-b445-65da22890ce1",
   "metadata": {},
   "outputs": [
    {
     "data": {
      "text/plain": [
       "139005"
      ]
     },
     "execution_count": 17,
     "metadata": {},
     "output_type": "execute_result"
    }
   ],
   "source": [
    "len(data_urls)"
   ]
  },
  {
   "cell_type": "code",
   "execution_count": 18,
   "id": "8ddd34a4-4a1d-44ae-a95b-a062fa42bc31",
   "metadata": {},
   "outputs": [
    {
     "data": {
      "text/plain": [
       "['https://data.lpdaac.earthdatacloud.nasa.gov/lp-prod-protected/HLSS30.020/HLS.S30.T59ULA.2021289T235621.v2.0/HLS.S30.T59ULA.2021289T235621.v2.0.VZA.tif',\n",
       " 'https://data.lpdaac.earthdatacloud.nasa.gov/lp-prod-protected/HLSS30.020/HLS.S30.T59ULA.2021289T235621.v2.0/HLS.S30.T59ULA.2021289T235621.v2.0.B01.tif',\n",
       " 'https://data.lpdaac.earthdatacloud.nasa.gov/lp-prod-protected/HLSS30.020/HLS.S30.T59ULA.2021289T235621.v2.0/HLS.S30.T59ULA.2021289T235621.v2.0.B06.tif',\n",
       " 'https://data.lpdaac.earthdatacloud.nasa.gov/lp-prod-protected/HLSS30.020/HLS.S30.T59ULA.2021289T235621.v2.0/HLS.S30.T59ULA.2021289T235621.v2.0.B02.tif',\n",
       " 'https://data.lpdaac.earthdatacloud.nasa.gov/lp-prod-protected/HLSS30.020/HLS.S30.T59ULA.2021289T235621.v2.0/HLS.S30.T59ULA.2021289T235621.v2.0.B03.tif',\n",
       " 'https://data.lpdaac.earthdatacloud.nasa.gov/lp-prod-protected/HLSS30.020/HLS.S30.T59ULA.2021289T235621.v2.0/HLS.S30.T59ULA.2021289T235621.v2.0.SAA.tif',\n",
       " 'https://data.lpdaac.earthdatacloud.nasa.gov/lp-prod-protected/HLSS30.020/HLS.S30.T59ULA.2021289T235621.v2.0/HLS.S30.T59ULA.2021289T235621.v2.0.B10.tif',\n",
       " 'https://data.lpdaac.earthdatacloud.nasa.gov/lp-prod-protected/HLSS30.020/HLS.S30.T59ULA.2021289T235621.v2.0/HLS.S30.T59ULA.2021289T235621.v2.0.B11.tif',\n",
       " 'https://data.lpdaac.earthdatacloud.nasa.gov/lp-prod-protected/HLSS30.020/HLS.S30.T59ULA.2021289T235621.v2.0/HLS.S30.T59ULA.2021289T235621.v2.0.SZA.tif',\n",
       " 'https://data.lpdaac.earthdatacloud.nasa.gov/lp-prod-protected/HLSS30.020/HLS.S30.T59ULA.2021289T235621.v2.0/HLS.S30.T59ULA.2021289T235621.v2.0.B07.tif',\n",
       " 'https://data.lpdaac.earthdatacloud.nasa.gov/lp-prod-protected/HLSS30.020/HLS.S30.T59ULA.2021289T235621.v2.0/HLS.S30.T59ULA.2021289T235621.v2.0.Fmask.tif',\n",
       " 'https://data.lpdaac.earthdatacloud.nasa.gov/lp-prod-protected/HLSS30.020/HLS.S30.T59ULA.2021289T235621.v2.0/HLS.S30.T59ULA.2021289T235621.v2.0.B08.tif',\n",
       " 'https://data.lpdaac.earthdatacloud.nasa.gov/lp-prod-protected/HLSS30.020/HLS.S30.T59ULA.2021289T235621.v2.0/HLS.S30.T59ULA.2021289T235621.v2.0.B12.tif',\n",
       " 'https://data.lpdaac.earthdatacloud.nasa.gov/lp-prod-protected/HLSS30.020/HLS.S30.T59ULA.2021289T235621.v2.0/HLS.S30.T59ULA.2021289T235621.v2.0.VAA.tif',\n",
       " 'https://data.lpdaac.earthdatacloud.nasa.gov/lp-prod-protected/HLSS30.020/HLS.S30.T59ULA.2021289T235621.v2.0/HLS.S30.T59ULA.2021289T235621.v2.0.B8A.tif',\n",
       " 'https://data.lpdaac.earthdatacloud.nasa.gov/lp-prod-protected/HLSS30.020/HLS.S30.T59ULA.2021289T235621.v2.0/HLS.S30.T59ULA.2021289T235621.v2.0.B04.tif',\n",
       " 'https://data.lpdaac.earthdatacloud.nasa.gov/lp-prod-protected/HLSS30.020/HLS.S30.T59ULA.2021289T235621.v2.0/HLS.S30.T59ULA.2021289T235621.v2.0.B05.tif',\n",
       " 'https://data.lpdaac.earthdatacloud.nasa.gov/lp-prod-protected/HLSS30.020/HLS.S30.T59ULA.2021289T235621.v2.0/HLS.S30.T59ULA.2021289T235621.v2.0.B09.tif',\n",
       " 'https://data.lpdaac.earthdatacloud.nasa.gov/lp-prod-protected/HLSS30.020/HLS.S30.T58UFF.2021289T235621.v2.0/HLS.S30.T58UFF.2021289T235621.v2.0.VAA.tif',\n",
       " 'https://data.lpdaac.earthdatacloud.nasa.gov/lp-prod-protected/HLSS30.020/HLS.S30.T58UFF.2021289T235621.v2.0/HLS.S30.T58UFF.2021289T235621.v2.0.B06.tif',\n",
       " 'https://data.lpdaac.earthdatacloud.nasa.gov/lp-prod-protected/HLSS30.020/HLS.S30.T58UFF.2021289T235621.v2.0/HLS.S30.T58UFF.2021289T235621.v2.0.B09.tif',\n",
       " 'https://data.lpdaac.earthdatacloud.nasa.gov/lp-prod-protected/HLSS30.020/HLS.S30.T58UFF.2021289T235621.v2.0/HLS.S30.T58UFF.2021289T235621.v2.0.B11.tif',\n",
       " 'https://data.lpdaac.earthdatacloud.nasa.gov/lp-prod-protected/HLSS30.020/HLS.S30.T58UFF.2021289T235621.v2.0/HLS.S30.T58UFF.2021289T235621.v2.0.B08.tif',\n",
       " 'https://data.lpdaac.earthdatacloud.nasa.gov/lp-prod-protected/HLSS30.020/HLS.S30.T58UFF.2021289T235621.v2.0/HLS.S30.T58UFF.2021289T235621.v2.0.B01.tif',\n",
       " 'https://data.lpdaac.earthdatacloud.nasa.gov/lp-prod-protected/HLSS30.020/HLS.S30.T58UFF.2021289T235621.v2.0/HLS.S30.T58UFF.2021289T235621.v2.0.SZA.tif',\n",
       " 'https://data.lpdaac.earthdatacloud.nasa.gov/lp-prod-protected/HLSS30.020/HLS.S30.T58UFF.2021289T235621.v2.0/HLS.S30.T58UFF.2021289T235621.v2.0.B03.tif',\n",
       " 'https://data.lpdaac.earthdatacloud.nasa.gov/lp-prod-protected/HLSS30.020/HLS.S30.T58UFF.2021289T235621.v2.0/HLS.S30.T58UFF.2021289T235621.v2.0.B05.tif',\n",
       " 'https://data.lpdaac.earthdatacloud.nasa.gov/lp-prod-protected/HLSS30.020/HLS.S30.T58UFF.2021289T235621.v2.0/HLS.S30.T58UFF.2021289T235621.v2.0.VZA.tif',\n",
       " 'https://data.lpdaac.earthdatacloud.nasa.gov/lp-prod-protected/HLSS30.020/HLS.S30.T58UFF.2021289T235621.v2.0/HLS.S30.T58UFF.2021289T235621.v2.0.B07.tif',\n",
       " 'https://data.lpdaac.earthdatacloud.nasa.gov/lp-prod-protected/HLSS30.020/HLS.S30.T58UFF.2021289T235621.v2.0/HLS.S30.T58UFF.2021289T235621.v2.0.SAA.tif',\n",
       " 'https://data.lpdaac.earthdatacloud.nasa.gov/lp-prod-protected/HLSS30.020/HLS.S30.T58UFF.2021289T235621.v2.0/HLS.S30.T58UFF.2021289T235621.v2.0.B10.tif',\n",
       " 'https://data.lpdaac.earthdatacloud.nasa.gov/lp-prod-protected/HLSS30.020/HLS.S30.T58UFF.2021289T235621.v2.0/HLS.S30.T58UFF.2021289T235621.v2.0.B02.tif',\n",
       " 'https://data.lpdaac.earthdatacloud.nasa.gov/lp-prod-protected/HLSS30.020/HLS.S30.T58UFF.2021289T235621.v2.0/HLS.S30.T58UFF.2021289T235621.v2.0.B12.tif',\n",
       " 'https://data.lpdaac.earthdatacloud.nasa.gov/lp-prod-protected/HLSS30.020/HLS.S30.T58UFF.2021289T235621.v2.0/HLS.S30.T58UFF.2021289T235621.v2.0.B04.tif',\n",
       " 'https://data.lpdaac.earthdatacloud.nasa.gov/lp-prod-protected/HLSS30.020/HLS.S30.T58UFF.2021289T235621.v2.0/HLS.S30.T58UFF.2021289T235621.v2.0.B8A.tif',\n",
       " 'https://data.lpdaac.earthdatacloud.nasa.gov/lp-prod-protected/HLSS30.020/HLS.S30.T58UFF.2021289T235621.v2.0/HLS.S30.T58UFF.2021289T235621.v2.0.Fmask.tif',\n",
       " 'https://data.lpdaac.earthdatacloud.nasa.gov/lp-prod-protected/HLSS30.020/HLS.S30.T56MMC.2021290T001731.v2.0/HLS.S30.T56MMC.2021290T001731.v2.0.B8A.tif',\n",
       " 'https://data.lpdaac.earthdatacloud.nasa.gov/lp-prod-protected/HLSS30.020/HLS.S30.T56MMC.2021290T001731.v2.0/HLS.S30.T56MMC.2021290T001731.v2.0.B01.tif',\n",
       " 'https://data.lpdaac.earthdatacloud.nasa.gov/lp-prod-protected/HLSS30.020/HLS.S30.T56MMC.2021290T001731.v2.0/HLS.S30.T56MMC.2021290T001731.v2.0.B05.tif',\n",
       " 'https://data.lpdaac.earthdatacloud.nasa.gov/lp-prod-protected/HLSS30.020/HLS.S30.T56MMC.2021290T001731.v2.0/HLS.S30.T56MMC.2021290T001731.v2.0.B06.tif',\n",
       " 'https://data.lpdaac.earthdatacloud.nasa.gov/lp-prod-protected/HLSS30.020/HLS.S30.T56MMC.2021290T001731.v2.0/HLS.S30.T56MMC.2021290T001731.v2.0.B12.tif',\n",
       " 'https://data.lpdaac.earthdatacloud.nasa.gov/lp-prod-protected/HLSS30.020/HLS.S30.T56MMC.2021290T001731.v2.0/HLS.S30.T56MMC.2021290T001731.v2.0.B11.tif',\n",
       " 'https://data.lpdaac.earthdatacloud.nasa.gov/lp-prod-protected/HLSS30.020/HLS.S30.T56MMC.2021290T001731.v2.0/HLS.S30.T56MMC.2021290T001731.v2.0.VZA.tif',\n",
       " 'https://data.lpdaac.earthdatacloud.nasa.gov/lp-prod-protected/HLSS30.020/HLS.S30.T56MMC.2021290T001731.v2.0/HLS.S30.T56MMC.2021290T001731.v2.0.SAA.tif',\n",
       " 'https://data.lpdaac.earthdatacloud.nasa.gov/lp-prod-protected/HLSS30.020/HLS.S30.T56MMC.2021290T001731.v2.0/HLS.S30.T56MMC.2021290T001731.v2.0.Fmask.tif',\n",
       " 'https://data.lpdaac.earthdatacloud.nasa.gov/lp-prod-protected/HLSS30.020/HLS.S30.T56MMC.2021290T001731.v2.0/HLS.S30.T56MMC.2021290T001731.v2.0.B07.tif',\n",
       " 'https://data.lpdaac.earthdatacloud.nasa.gov/lp-prod-protected/HLSS30.020/HLS.S30.T56MMC.2021290T001731.v2.0/HLS.S30.T56MMC.2021290T001731.v2.0.SZA.tif',\n",
       " 'https://data.lpdaac.earthdatacloud.nasa.gov/lp-prod-protected/HLSS30.020/HLS.S30.T56MMC.2021290T001731.v2.0/HLS.S30.T56MMC.2021290T001731.v2.0.VAA.tif',\n",
       " 'https://data.lpdaac.earthdatacloud.nasa.gov/lp-prod-protected/HLSS30.020/HLS.S30.T56MMC.2021290T001731.v2.0/HLS.S30.T56MMC.2021290T001731.v2.0.B02.tif',\n",
       " 'https://data.lpdaac.earthdatacloud.nasa.gov/lp-prod-protected/HLSS30.020/HLS.S30.T56MMC.2021290T001731.v2.0/HLS.S30.T56MMC.2021290T001731.v2.0.B08.tif']"
      ]
     },
     "execution_count": 18,
     "metadata": {},
     "output_type": "execute_result"
    }
   ],
   "source": [
    "data_urls[:50]"
   ]
  }
 ],
 "metadata": {
  "kernelspec": {
   "display_name": "Python 3 (ipykernel)",
   "language": "python",
   "name": "python3"
  },
  "language_info": {
   "codemirror_mode": {
    "name": "ipython",
    "version": 3
   },
   "file_extension": ".py",
   "mimetype": "text/x-python",
   "name": "python",
   "nbconvert_exporter": "python",
   "pygments_lexer": "ipython3",
   "version": "3.9.7"
  }
 },
 "nbformat": 4,
 "nbformat_minor": 5
}
